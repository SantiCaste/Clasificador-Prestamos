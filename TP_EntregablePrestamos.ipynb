{
 "cells": [
  {
   "cell_type": "markdown",
   "metadata": {},
   "source": [
    "# Examen Práctico "
   ]
  },
  {
   "cell_type": "markdown",
   "metadata": {},
   "source": [
    "#### 3670 COM:01-3900 | Ciencia de datos | 2024 C2"
   ]
  },
  {
   "cell_type": "markdown",
   "metadata": {},
   "source": [
    "Alumnos:"
   ]
  },
  {
   "cell_type": "markdown",
   "metadata": {},
   "source": [
    "## Enunciado"
   ]
  },
  {
   "cell_type": "markdown",
   "metadata": {},
   "source": [
    "Se tiene un dataset con datos del historial de solicitantes a quienes se le otorgaron créditos y su situación final como deudores o pagadores. La entidad tiene que determinar a quienes entregar o no un crédito en función de su propensión a caer en \"default\". Desarrolle un proceso que clasifique deudores y pagadores. Observe que la clase de interés es \"default\", y debido a nuevas políticas de encaje bancario se ha expresado el objetivo de evitar tanto como sea posible entregar créditos a deudores (a costa naturalmente de perder algún posible crédito a pagadores). Maximice la métrica correspondiente sin modificar threshold."
   ]
  },
  {
   "cell_type": "markdown",
   "metadata": {},
   "source": [
    " Las columnas tienen nombres descriptivos, pero para mas información:"
   ]
  },
  {
   "cell_type": "markdown",
   "metadata": {},
   "source": [
    "Importe: Cuando dinero esta pidiendo prestado</BR>\n",
    "añosPago: Tiempo para pagar el crédito</BR>\n",
    "IngresoAnuales: Ingresos anuales del solicitante</BR>\n",
    "RelacionIngresoDeuda: Ratio entre sus ingresos y la deuda</BR>\n",
    "RelacionCuotaDeuda: Ratio entre sus ingresos y la cuota</BR>\n",
    "PendienteEnTarjeta: Pendiente de pago en tarjetas de crédito</BR>\n",
    "UsoCreditoTarjeta: Volumen de dinero que maneja con sus instrumentos de crédito</BR>\n",
    "Objetivo: ¿Para que quiere el préstamos?</BR>\n",
    "esPropietario: ¿Es propietario del su casa?</BR>\n",
    "FueVeraz: ¿Alguna vez estuvo en el veraz?</BR>\n",
    "TuvoEmbargo: ¿Tuvo algun embargo o situación judicial?</BR>\n",
    "Cuentas: Cantidad de cuentas que maneja</BR>\n",
    "PuntuacionGeneral: Puntuación crediticia otorgada por un organismo regular</BR>\n",
    "Default: Si pagó o no el crédito</BR>\n",
    "AntiguedadLaboral: Antiguedad laboral</BR>"
   ]
  },
  {
   "cell_type": "markdown",
   "metadata": {},
   "source": [
    "## Como desarrollar el exámen"
   ]
  },
  {
   "cell_type": "markdown",
   "metadata": {},
   "source": [
    "A partir del dataset realice todas las acciones para poder llegar al mejor modelo, explique brevemente en los fundamentos de sus transformaciones o acciones en general. "
   ]
  },
  {
   "cell_type": "markdown",
   "metadata": {},
   "source": [
    "La nota derivará de: </BR>\n",
    "1.La calidad de la clasificación realizada</BR>\n",
    "2.La fundamentación de los pasos realizados</BR>\n",
    "3.Lo sencillo de llevar a producción el desarrollo</BR> \n",
    "\n"
   ]
  },
  {
   "cell_type": "markdown",
   "metadata": {},
   "source": [
    "Los docentes evaluaran su clasificador utilizando un conjunto de datos del dataset \"fuera de la caja\" (out of the box, al que usted no tiene acceso). Para minimizar la posible diferencia entre su medición y la medición del docente, recuerde y aplique conceptos de test, validación cruzada y evite los errores comunes de sesgo de selección y fuga de datos. Ej: \"10. Common pitfalls and recommended practices\" disponible en \"https://scikit-learn.org/stable/common_pitfalls.html\"   "
   ]
  },
  {
   "cell_type": "markdown",
   "metadata": {},
   "source": [
    "Al final del notebook encontrará un bloque de código que lee la muestra adicional (a la que usted no tiene acceso) si EVALUACION==True, en caso contrario solo lee una submuestra del conjunto original para validar que el código funciona. Desarrolle el notebook como considere, para finalmente asignar el mejor clasificador que usted haya obtenido remplazando en f_clf = None, None por su clasificador. Implemente todas las transformaciones entre esa línea y la predición final (Evitando al fuga de datos).Puede dejar funcionando implementaciones alternativas que no prosperaron en notebooks separados. En cuanto comience con el desarrollo informe a los docentes el nombre del repositorio.\n"
   ]
  },
  {
   "cell_type": "markdown",
   "metadata": {},
   "source": [
    "## Evaluacion final - Docente + Alumno"
   ]
  },
  {
   "cell_type": "code",
   "execution_count": 1,
   "metadata": {},
   "outputs": [],
   "source": [
    "STUDENTDATAFILE = 'creditos_banco_alumnos.csv'\n",
    "EVALDATAFILE    = 'creditos_banco_evaluacion.csv'\n",
    "import pandas as pd\n",
    "from sklearn.pipeline import Pipeline\n",
    "from sklearn.compose import ColumnTransformer\n",
    "from sklearn.impute import SimpleImputer\n",
    "from sklearn.neighbors import KNeighborsClassifier\n",
    "from sklearn.metrics import classification_report\n",
    "from sklearn.model_selection import train_test_split\n",
    "from sklearn.pipeline import Pipeline\n",
    "from sklearn.preprocessing import FunctionTransformer\n",
    "import matplotlib.pyplot as plt\n",
    "from sklearn.ensemble import GradientBoostingClassifier, RandomForestClassifier\n",
    "from sklearn.linear_model import LogisticRegression\n",
    "import numpy as np\n",
    "from sklearn.base import BaseEstimator, TransformerMixin\n",
    "from sklearn.svm import SVC\n",
    "from sklearn.discriminant_analysis import StandardScaler\n",
    "\n"
   ]
  },
  {
   "cell_type": "markdown",
   "metadata": {},
   "source": [
    "Lectura de los datos"
   ]
  },
  {
   "cell_type": "code",
   "execution_count": 2,
   "metadata": {},
   "outputs": [],
   "source": [
    "df = pd.read_csv(STUDENTDATAFILE)"
   ]
  },
  {
   "cell_type": "markdown",
   "metadata": {},
   "source": [
    "### Analisis"
   ]
  },
  {
   "cell_type": "markdown",
   "metadata": {},
   "source": [
    "No tenemos registros duplciados"
   ]
  },
  {
   "cell_type": "code",
   "execution_count": 3,
   "metadata": {},
   "outputs": [
    {
     "name": "stdout",
     "output_type": "stream",
     "text": [
      "Cantidad Duplicados: 0\n"
     ]
    }
   ],
   "source": [
    "print(\"Cantidad Duplicados:\",  df.duplicated().sum())"
   ]
  },
  {
   "cell_type": "markdown",
   "metadata": {},
   "source": [
    "No tenemos nulos que imputar"
   ]
  },
  {
   "cell_type": "code",
   "execution_count": 4,
   "metadata": {},
   "outputs": [
    {
     "data": {
      "text/plain": [
       "Importe                 0.0\n",
       "añosPago                0.0\n",
       "IngresoAnuales          0.0\n",
       "RelacionIngresoDeuda    0.0\n",
       "RelacionCuotaDeuda      0.0\n",
       "PendienteEnTarjeta      0.0\n",
       "UsoCreditoTarjeta       0.0\n",
       "Objetivo                0.0\n",
       "esPropietario           0.0\n",
       "FueVeraz                0.0\n",
       "TuvoEmbargo             0.0\n",
       "Cuentas                 0.0\n",
       "PuntuacionGeneral       0.0\n",
       "Default                 0.0\n",
       "AntiguedadLaboral       0.0\n",
       "dtype: float64"
      ]
     },
     "execution_count": 4,
     "metadata": {},
     "output_type": "execute_result"
    }
   ],
   "source": [
    "df.isna().sum()/df.shape[0]*100"
   ]
  },
  {
   "cell_type": "code",
   "execution_count": 5,
   "metadata": {},
   "outputs": [
    {
     "data": {
      "text/plain": [
       "Index(['Importe', 'añosPago', 'IngresoAnuales', 'RelacionIngresoDeuda',\n",
       "       'RelacionCuotaDeuda', 'PendienteEnTarjeta', 'UsoCreditoTarjeta',\n",
       "       'Objetivo', 'esPropietario', 'FueVeraz', 'TuvoEmbargo', 'Cuentas',\n",
       "       'PuntuacionGeneral', 'Default', 'AntiguedadLaboral'],\n",
       "      dtype='object')"
      ]
     },
     "execution_count": 5,
     "metadata": {},
     "output_type": "execute_result"
    }
   ],
   "source": [
    "df.columns"
   ]
  },
  {
   "cell_type": "code",
   "execution_count": 6,
   "metadata": {},
   "outputs": [
    {
     "data": {
      "text/plain": [
       "Importe                   int64\n",
       "añosPago                  int64\n",
       "IngresoAnuales            int64\n",
       "RelacionIngresoDeuda    float64\n",
       "RelacionCuotaDeuda      float64\n",
       "PendienteEnTarjeta        int64\n",
       "UsoCreditoTarjeta       float64\n",
       "Objetivo                 object\n",
       "esPropietario            object\n",
       "FueVeraz                  int64\n",
       "TuvoEmbargo               int64\n",
       "Cuentas                   int64\n",
       "PuntuacionGeneral       float64\n",
       "Default                  object\n",
       "AntiguedadLaboral         int64\n",
       "dtype: object"
      ]
     },
     "execution_count": 6,
     "metadata": {},
     "output_type": "execute_result"
    }
   ],
   "source": [
    "df.dtypes"
   ]
  },
  {
   "cell_type": "markdown",
   "metadata": {},
   "source": [
    "Al revisar el dataset y los tipos concluimos que tenemos con categoricos a estas columnas:"
   ]
  },
  {
   "cell_type": "code",
   "execution_count": 7,
   "metadata": {},
   "outputs": [
    {
     "name": "stdout",
     "output_type": "stream",
     "text": [
      "Columna: 'Objetivo':\n",
      "['Deuda' 'Deuda renovable' 'Mudanza' 'Evento' 'Hipoteca' 'No declara'\n",
      " 'Inversion' 'Negocio' 'Bien de Capital' 'Compra' 'Otros' 'Vacaciones']\n",
      "Columna: 'esPropietario':\n",
      "['Hipoteca' 'Alquiler' 'Propio' 'Otro']\n",
      "Columna: 'Default':\n",
      "['paid off' 'default']\n"
     ]
    }
   ],
   "source": [
    "print(\"Columna: 'Objetivo':\")\n",
    "print(df[\"Objetivo\"].unique())\n",
    "print(\"Columna: 'esPropietario':\")\n",
    "print(df[\"esPropietario\"].unique())\n",
    "print(\"Columna: 'Default':\")\n",
    "print(df[\"Default\"].unique())"
   ]
  },
  {
   "cell_type": "markdown",
   "metadata": {},
   "source": [
    "Como booleanos"
   ]
  },
  {
   "cell_type": "code",
   "execution_count": 8,
   "metadata": {},
   "outputs": [
    {
     "name": "stdout",
     "output_type": "stream",
     "text": [
      "FueVeraz\n",
      "0    29135\n",
      "1     4871\n",
      "Name: count, dtype: int64\n",
      "TuvoEmbargo\n",
      "0    30985\n",
      "1     3021\n",
      "Name: count, dtype: int64\n"
     ]
    }
   ],
   "source": [
    "print(df[\"FueVeraz\"].value_counts())\n",
    "print(df[\"TuvoEmbargo\"].value_counts())"
   ]
  },
  {
   "cell_type": "markdown",
   "metadata": {},
   "source": [
    "Dependiendo el modelo a utilizar, por las dudas revisamos los valores numericos por si tenemos que normalizar algun campo. Ej: IngresoAnuales"
   ]
  },
  {
   "cell_type": "code",
   "execution_count": 9,
   "metadata": {},
   "outputs": [
    {
     "data": {
      "text/html": [
       "<div>\n",
       "<style scoped>\n",
       "    .dataframe tbody tr th:only-of-type {\n",
       "        vertical-align: middle;\n",
       "    }\n",
       "\n",
       "    .dataframe tbody tr th {\n",
       "        vertical-align: top;\n",
       "    }\n",
       "\n",
       "    .dataframe thead th {\n",
       "        text-align: right;\n",
       "    }\n",
       "</style>\n",
       "<table border=\"1\" class=\"dataframe\">\n",
       "  <thead>\n",
       "    <tr style=\"text-align: right;\">\n",
       "      <th></th>\n",
       "      <th>count</th>\n",
       "      <th>mean</th>\n",
       "      <th>std</th>\n",
       "      <th>min</th>\n",
       "      <th>25%</th>\n",
       "      <th>50%</th>\n",
       "      <th>75%</th>\n",
       "      <th>max</th>\n",
       "    </tr>\n",
       "  </thead>\n",
       "  <tbody>\n",
       "    <tr>\n",
       "      <th>Importe</th>\n",
       "      <td>34006.00</td>\n",
       "      <td>13172.60</td>\n",
       "      <td>8101.33</td>\n",
       "      <td>500.00</td>\n",
       "      <td>7000.00</td>\n",
       "      <td>11500.00</td>\n",
       "      <td>18000.00</td>\n",
       "      <td>35000.00</td>\n",
       "    </tr>\n",
       "    <tr>\n",
       "      <th>añosPago</th>\n",
       "      <td>34006.00</td>\n",
       "      <td>3.50</td>\n",
       "      <td>0.87</td>\n",
       "      <td>3.00</td>\n",
       "      <td>3.00</td>\n",
       "      <td>3.00</td>\n",
       "      <td>5.00</td>\n",
       "      <td>5.00</td>\n",
       "    </tr>\n",
       "    <tr>\n",
       "      <th>IngresoAnuales</th>\n",
       "      <td>34006.00</td>\n",
       "      <td>68136.86</td>\n",
       "      <td>45495.77</td>\n",
       "      <td>3500.00</td>\n",
       "      <td>42000.00</td>\n",
       "      <td>60000.00</td>\n",
       "      <td>82000.00</td>\n",
       "      <td>1200000.00</td>\n",
       "    </tr>\n",
       "    <tr>\n",
       "      <th>RelacionIngresoDeuda</th>\n",
       "      <td>34006.00</td>\n",
       "      <td>16.11</td>\n",
       "      <td>7.59</td>\n",
       "      <td>0.00</td>\n",
       "      <td>10.46</td>\n",
       "      <td>16.01</td>\n",
       "      <td>21.56</td>\n",
       "      <td>38.60</td>\n",
       "    </tr>\n",
       "    <tr>\n",
       "      <th>RelacionCuotaDeuda</th>\n",
       "      <td>34006.00</td>\n",
       "      <td>8.03</td>\n",
       "      <td>4.27</td>\n",
       "      <td>0.05</td>\n",
       "      <td>4.66</td>\n",
       "      <td>7.49</td>\n",
       "      <td>10.94</td>\n",
       "      <td>43.55</td>\n",
       "    </tr>\n",
       "    <tr>\n",
       "      <th>PendienteEnTarjeta</th>\n",
       "      <td>34006.00</td>\n",
       "      <td>14973.25</td>\n",
       "      <td>21086.54</td>\n",
       "      <td>0.00</td>\n",
       "      <td>5676.50</td>\n",
       "      <td>10807.50</td>\n",
       "      <td>18668.75</td>\n",
       "      <td>1743266.00</td>\n",
       "    </tr>\n",
       "    <tr>\n",
       "      <th>UsoCreditoTarjeta</th>\n",
       "      <td>34006.00</td>\n",
       "      <td>56.09</td>\n",
       "      <td>25.44</td>\n",
       "      <td>0.00</td>\n",
       "      <td>38.00</td>\n",
       "      <td>58.50</td>\n",
       "      <td>76.50</td>\n",
       "      <td>119.00</td>\n",
       "    </tr>\n",
       "    <tr>\n",
       "      <th>Cuentas</th>\n",
       "      <td>34006.00</td>\n",
       "      <td>10.43</td>\n",
       "      <td>4.73</td>\n",
       "      <td>0.00</td>\n",
       "      <td>7.00</td>\n",
       "      <td>10.00</td>\n",
       "      <td>13.00</td>\n",
       "      <td>76.00</td>\n",
       "    </tr>\n",
       "    <tr>\n",
       "      <th>PuntuacionGeneral</th>\n",
       "      <td>34006.00</td>\n",
       "      <td>4.59</td>\n",
       "      <td>1.49</td>\n",
       "      <td>0.20</td>\n",
       "      <td>3.60</td>\n",
       "      <td>4.80</td>\n",
       "      <td>5.80</td>\n",
       "      <td>7.00</td>\n",
       "    </tr>\n",
       "    <tr>\n",
       "      <th>AntiguedadLaboral</th>\n",
       "      <td>34006.00</td>\n",
       "      <td>6.31</td>\n",
       "      <td>3.75</td>\n",
       "      <td>0.00</td>\n",
       "      <td>3.00</td>\n",
       "      <td>6.00</td>\n",
       "      <td>11.00</td>\n",
       "      <td>11.00</td>\n",
       "    </tr>\n",
       "  </tbody>\n",
       "</table>\n",
       "</div>"
      ],
      "text/plain": [
       "                        count     mean      std     min      25%      50%  \\\n",
       "Importe              34006.00 13172.60  8101.33  500.00  7000.00 11500.00   \n",
       "añosPago             34006.00     3.50     0.87    3.00     3.00     3.00   \n",
       "IngresoAnuales       34006.00 68136.86 45495.77 3500.00 42000.00 60000.00   \n",
       "RelacionIngresoDeuda 34006.00    16.11     7.59    0.00    10.46    16.01   \n",
       "RelacionCuotaDeuda   34006.00     8.03     4.27    0.05     4.66     7.49   \n",
       "PendienteEnTarjeta   34006.00 14973.25 21086.54    0.00  5676.50 10807.50   \n",
       "UsoCreditoTarjeta    34006.00    56.09    25.44    0.00    38.00    58.50   \n",
       "Cuentas              34006.00    10.43     4.73    0.00     7.00    10.00   \n",
       "PuntuacionGeneral    34006.00     4.59     1.49    0.20     3.60     4.80   \n",
       "AntiguedadLaboral    34006.00     6.31     3.75    0.00     3.00     6.00   \n",
       "\n",
       "                          75%        max  \n",
       "Importe              18000.00   35000.00  \n",
       "añosPago                 5.00       5.00  \n",
       "IngresoAnuales       82000.00 1200000.00  \n",
       "RelacionIngresoDeuda    21.56      38.60  \n",
       "RelacionCuotaDeuda      10.94      43.55  \n",
       "PendienteEnTarjeta   18668.75 1743266.00  \n",
       "UsoCreditoTarjeta       76.50     119.00  \n",
       "Cuentas                 13.00      76.00  \n",
       "PuntuacionGeneral        5.80       7.00  \n",
       "AntiguedadLaboral       11.00      11.00  "
      ]
     },
     "execution_count": 9,
     "metadata": {},
     "output_type": "execute_result"
    }
   ],
   "source": [
    "pd.set_option('display.float_format', '{:.2f}'.format)\n",
    "\n",
    "df[['Importe', 'añosPago', 'IngresoAnuales', 'RelacionIngresoDeuda',\n",
    "    'RelacionCuotaDeuda', 'PendienteEnTarjeta', 'UsoCreditoTarjeta',\n",
    "    'Cuentas', 'PuntuacionGeneral', 'AntiguedadLaboral']].describe().T"
   ]
  },
  {
   "cell_type": "markdown",
   "metadata": {},
   "source": [
    "Haciendo un analisis mas profundo de los ingresos anuales, vemos que hay un sesgo en valores bajos. Consideramos esos valores altos como outliers y que en si no nos aportarian mucha info al ser tan pocos"
   ]
  },
  {
   "cell_type": "code",
   "execution_count": 10,
   "metadata": {},
   "outputs": [
    {
     "name": "stdout",
     "output_type": "stream",
     "text": [
      "Valor mínimo: 3500\n",
      "Valor máximo: 1200000\n"
     ]
    }
   ],
   "source": [
    "min_val = df['IngresoAnuales'].min()\n",
    "max_val = df['IngresoAnuales'].max()\n",
    "\n",
    "print(f\"Valor mínimo: {min_val}\")\n",
    "print(f\"Valor máximo: {max_val}\")"
   ]
  },
  {
   "cell_type": "code",
   "execution_count": 11,
   "metadata": {},
   "outputs": [
    {
     "name": "stdout",
     "output_type": "stream",
     "text": [
      "Cantidad de registros por bin:\n",
      "IngresoAnuales_bin\n",
      "(2303.5, 242800.0]       33743\n",
      "(242800.0, 482100.0]       220\n",
      "(482100.0, 721400.0]        29\n",
      "(721400.0, 960700.0]        10\n",
      "(960700.0, 1200000.0]        4\n",
      "Name: count, dtype: int64\n"
     ]
    },
    {
     "data": {
      "image/png": "[encoded data removed]",
      "text/plain": [
       "<Figure size 1000x600 with 1 Axes>"
      ]
     },
     "metadata": {},
     "output_type": "display_data"
    }
   ],
   "source": [
    "bins = 5\n",
    "df['IngresoAnuales_bin'] = pd.cut(df['IngresoAnuales'], bins=bins)\n",
    "\n",
    "bin_counts = df['IngresoAnuales_bin'].value_counts().sort_index()\n",
    "\n",
    "print(\"Cantidad de registros por bin:\")\n",
    "print(bin_counts)\n",
    "\n",
    "plt.figure(figsize=(10, 6))\n",
    "plt.hist(df['IngresoAnuales'], bins=bins, color='skyblue', edgecolor='black', alpha=0.7)\n",
    "\n",
    "plt.title('Distribución de IngresoAnuales')\n",
    "plt.xlabel('Ingreso Anual')\n",
    "plt.ylabel('Frecuencia')\n",
    "\n",
    "plt.show()"
   ]
  },
  {
   "cell_type": "markdown",
   "metadata": {},
   "source": [
    "Luego vemos la distribucion de los datos para cada columna, asi como el conteo de los mismos y una matriz de correlacion para poder ver con que columnas quedarnos"
   ]
  },
  {
   "cell_type": "code",
   "execution_count": null,
   "metadata": {},
   "outputs": [],
   "source": [
    "import seaborn as sns\n",
    "\n",
    "# Configuración general para gráficos\n",
    "plt.style.use('seaborn-v0_8-dark')\n",
    "\n",
    "# 1. Histogramas para la distribución de variables numéricas clave\n",
    "fig, axes = plt.subplots(2, 3, figsize=(18, 10))\n",
    "sns.histplot(df['Importe'], kde=True, ax=axes[0, 0]).set_title('Distribución de Importe')\n",
    "sns.histplot(df['IngresoAnuales'], kde=True, ax=axes[0, 1]).set_title('Distribución de IngresoAnuales')\n",
    "sns.histplot(df['PendienteEnTarjeta'], kde=True, ax=axes[0, 2]).set_title('Distribución de PendienteEnTarjeta')\n",
    "sns.histplot(df['RelacionIngresoDeuda'], kde=True, ax=axes[1, 0]).set_title('Distribución de RelacionIngresoDeuda')\n",
    "sns.histplot(df['RelacionCuotaDeuda'], kde=True, ax=axes[1, 1]).set_title('Distribución de RelacionCuotaDeuda')\n",
    "sns.histplot(df['AntiguedadLaboral'], kde=True, ax=axes[1, 2]).set_title('Distribución de AntiguedadLaboral')\n",
    "\n",
    "plt.tight_layout()\n",
    "plt.show()\n",
    "\n",
    "# 2. Conteo de valores en las columnas categóricas 'Objetivo', 'esPropietario' y 'Default'\n",
    "fig, axes = plt.subplots(1, 3, figsize=(18, 5))\n",
    "sns.countplot(data=df, x='Objetivo', order=df['Objetivo'].value_counts().index, ax=axes[0]).set_title('Conteo de Objetivos')\n",
    "sns.countplot(data=df, x='esPropietario', order=df['esPropietario'].value_counts().index, ax=axes[1]).set_title('Conteo de esPropietario')\n",
    "sns.countplot(data=df, x='Default', order=df['Default'].value_counts().index, ax=axes[2]).set_title('Conteo de Default')\n",
    "\n",
    "plt.tight_layout()\n",
    "plt.show()\n",
    "\n",
    "# 3. Matriz de correlación para ver relaciones entre variables numéricas\n",
    "fig, ax = plt.subplots(figsize=(12, 8))\n",
    "sns.heatmap(df.corr(numeric_only=True), annot=True, cmap='coolwarm', ax=ax).set_title('Matriz de Correlación')\n",
    "\n",
    "plt.tight_layout()\n",
    "plt.show()\n",
    "\n",
    "# 4. Boxplots para detectar outliers en 'IngresoAnuales' y 'PendienteEnTarjeta'\n",
    "fig, axes = plt.subplots(1, 2, figsize=(15, 6))\n",
    "sns.boxplot(x=df['IngresoAnuales'], ax=axes[0]).set_title('Boxplot de IngresoAnuales')\n",
    "sns.boxplot(x=df['PendienteEnTarjeta'], ax=axes[1]).set_title('Boxplot de PendienteEnTarjeta')\n",
    "\n",
    "plt.tight_layout()\n",
    "plt.show()"
   ]
  },
  {
   "cell_type": "markdown",
   "metadata": {},
   "source": [
    "### Pipeline"
   ]
  },
  {
   "cell_type": "markdown",
   "metadata": {},
   "source": [
    "Funciones para el pipeline\n"
   ]
  },
  {
   "cell_type": "code",
   "execution_count": null,
   "metadata": {},
   "outputs": [],
   "source": [
    "dropna_transformer = FunctionTransformer(lambda df: df.dropna(), validate=False)\n",
    "\n",
    "def encode_categories(df):\n",
    "    # Codificar la columna 'Objetivo'\n",
    "    obj_ordinal = pd.CategoricalDtype(categories=df['Objetivo'].unique(), ordered=True)\n",
    "    df['Objetivo'] = df['Objetivo'].astype(obj_ordinal).cat.codes\n",
    "\n",
    "    # Codificar la columna 'esPropietario'\n",
    "    esPro_ordinal = pd.CategoricalDtype(categories=df['esPropietario'].unique(), ordered=True)\n",
    "    df['esPropietario'] = df['esPropietario'].astype(esPro_ordinal).cat.codes\n",
    "\n",
    "    # Mapear valores en la columna 'Default'\n",
    "    #df['Default'] = df['Default'].map({'paid off': 0, 'default': 1}) #TODO: esto no anda no se por que (de todas formas creo que no hace falta)\n",
    "    return df\n",
    "\n",
    "\n",
    "categorical_transformer = FunctionTransformer(encode_categories, validate=False)\n",
    "\n",
    "def remove_outliers(df):\n",
    "    # Seleccionar solo columnas numéricas\n",
    "    outlier_columns = ['IngresoAnuales', 'PendienteEnTarjeta', 'RelacionCuotaDeuda']\n",
    "\n",
    "    # Detectar y eliminar outliers usando el método del rango intercuartílico (IQR)\n",
    "    for column in outlier_columns:\n",
    "        Q1 = df[column].quantile(0.25)  # Primer cuartil\n",
    "        Q3 = df[column].quantile(0.75)  # Tercer cuartil\n",
    "        IQR = Q3 - Q1  # Rango intercuartílico\n",
    "        \n",
    "        # Definir límites inferior y superior\n",
    "        lower_bound = Q1 - 1.5 * IQR\n",
    "        upper_bound = Q3 + 1.5 * IQR\n",
    "        \n",
    "        # Filtrar registros que están fuera de los límites\n",
    "        df[column] = df[column].where((df[column] >= lower_bound) & (df[column] <= upper_bound), np.nan)\n",
    "    return df\n",
    "\n",
    "outliners_transformer = FunctionTransformer(remove_outliers, validate=False)\n",
    "\n",
    "class ColumnImputer(BaseEstimator, TransformerMixin):\n",
    "    def __init__(self, imputer=SimpleImputer(strategy=\"mean\"), columns=None):\n",
    "        self.imputer = imputer\n",
    "        self.columns = columns\n",
    "\n",
    "    def fit(self, X, y=None):\n",
    "        #self.imputer.fit(X[self.columns])\n",
    "        return self\n",
    "    def get_feature_names_out(self):\n",
    "        return self.imputer.get_feature_names_out()\n",
    "    def transform(self, X):\n",
    "        Xc = X.copy()\n",
    "        #Xc.loc[:, self.columns] = self.imputer.transform(X[self.columns])\n",
    "\n",
    "        Xc.loc[:, self.columns] = self.imputer.fit_transform(X[self.columns])\n",
    "        return Xc\n"
   ]
  },
  {
   "cell_type": "code",
   "execution_count": null,
   "metadata": {},
   "outputs": [],
   "source": [
    "class NumericScaler(BaseEstimator, TransformerMixin):\n",
    "    def __init__(self, columns=None):\n",
    "        self.columns = columns\n",
    "        self.scaler = StandardScaler()\n",
    "\n",
    "\n",
    "    def fit(self, X, y=None):\n",
    "        return self\n",
    "\n",
    "    def transform(self, X):\n",
    "        numeric_columns = X.select_dtypes(include=['float64', 'int64']).columns\n",
    "        X_copy = X.copy()\n",
    "        X_copy[numeric_columns] = self.scaler.fit_transform(X[numeric_columns])\n",
    "        return X_copy"
   ]
  },
  {
   "cell_type": "code",
   "execution_count": null,
   "metadata": {},
   "outputs": [],
   "source": [
    "class ColumnDropper(BaseEstimator, TransformerMixin):\n",
    "    def __init__(self, columns):\n",
    "        self.columns = columns\n",
    "\n",
    "    def fit(self, X, y=None):\n",
    "        return self  # Este transformador no aprende nada\n",
    "\n",
    "    def transform(self, X):\n",
    "        X_copy = X.copy()\n",
    "        X_copy.drop(columns=self.columns, inplace=True)\n",
    "        return X_copy\n"
   ]
  },
  {
   "cell_type": "markdown",
   "metadata": {},
   "source": [
    "Pipeline"
   ]
  },
  {
   "cell_type": "markdown",
   "metadata": {},
   "source": [
    "### Este con SVC da 63"
   ]
  },
  {
   "cell_type": "code",
   "execution_count": null,
   "metadata": {},
   "outputs": [],
   "source": [
    "\"\"\"\n",
    "columns_to_drop = ['AntiguedadLaboral']\n",
    "\n",
    "pl = Pipeline([\n",
    "    ('dropna', dropna_transformer),  # Paso para eliminar nulos\n",
    "    ('drop_columns', ColumnDropper(columns=columns_to_drop)),  # Paso para eliminar columnas\n",
    "    ('encode_categories', categorical_transformer), # Paso para codificar categorías\n",
    "    ('remove_outliers', outliners_transformer), # Convierte los outliers en NaN\n",
    "    ('imputer', ColumnImputer(columns=['IngresoAnuales', 'PendienteEnTarjeta', 'RelacionCuotaDeuda'])),  # Imputar valores NaN con la mediana\n",
    "    ('scaler', NumericScaler()), #Escala las columnas numéricas (para GradientBoost, el que vamos a entregar, no haría falta)\n",
    "    ('classifier',SVC(gamma='auto'))\n",
    "    ],\n",
    ")\n",
    "\"\"\""
   ]
  },
  {
   "cell_type": "markdown",
   "metadata": {},
   "source": [
    "### Este con GradientBoost"
   ]
  },
  {
   "cell_type": "code",
   "execution_count": null,
   "metadata": {},
   "outputs": [],
   "source": [
    "#columns_to_drop = ['AntiguedadLaboral']\n",
    "\n",
    "pl = Pipeline([\n",
    "    ('dropna', dropna_transformer),  # Paso para eliminar nulos\n",
    "    #('drop_columns', ColumnDropper(columns=columns_to_drop)),  # Paso para eliminar columnas\n",
    "    ('encode_categories', categorical_transformer), # Paso para codificar categorías\n",
    "    ('remove_outliers', outliners_transformer), # Convierte los outliers en NaN\n",
    "    ('imputer', ColumnImputer(columns=['IngresoAnuales', 'PendienteEnTarjeta', 'RelacionCuotaDeuda'])),  # Imputar valores NaN con la mediana\n",
    "    ('classifier', GradientBoostingClassifier())\n",
    "    ],\n",
    ")"
   ]
  },
  {
   "cell_type": "markdown",
   "metadata": {},
   "source": [
    "Procesamiento"
   ]
  },
  {
   "cell_type": "code",
   "execution_count": null,
   "metadata": {},
   "outputs": [],
   "source": [
    "X = df.drop(columns=['Default'])\n",
    "y = df['Default']\n",
    "X_train, X_test, y_train, y_test = train_test_split(X, y, test_size=0.3, random_state=42)\n",
    "\n",
    "pl.fit(X_train, y_train)"
   ]
  },
  {
   "cell_type": "code",
   "execution_count": null,
   "metadata": {},
   "outputs": [],
   "source": [
    "EVALUACION = False\n",
    "#best_clf = None #Asignar aqui el mejor clasificador posible (previamente entrenado)\n",
    "best_clf = pl\n",
    "#Leemos el dataset de evaluación, simulando producción\n",
    "if EVALUACION==False:\n",
    "    df = pd.read_csv(STUDENTDATAFILE)\n",
    "    _, df = train_test_split(df, test_size=0.3, random_state=42)\n",
    "else:\n",
    "    df = pd.read_csv(EVALDATAFILE)\n",
    "#Dividimos en target y predictoras\n",
    "\n",
    "X_Eval = df.drop(\"Default\", axis=1)\n",
    "y_Eval = df[\"Default\"]\n",
    "\n",
    "#Evaluación final\n",
    "\n",
    "y_pred = best_clf.predict(X_Eval) # esto debe ser un pipeline completo\n",
    "print(classification_report(y_Eval, y_pred))"
   ]
  }
 ],
 "metadata": {
  "kernelspec": {
   "display_name": "Python 3",
   "language": "python",
   "name": "python3"
  },
  "language_info": {
   "codemirror_mode": {
    "name": "ipython",
    "version": 3
   },
   "file_extension": ".py",
   "mimetype": "text/x-python",
   "name": "python",
   "nbconvert_exporter": "python",
   "pygments_lexer": "ipython3",
   "version": "3.12.7"
  }
 },
 "nbformat": 4,
 "nbformat_minor": 2
}
