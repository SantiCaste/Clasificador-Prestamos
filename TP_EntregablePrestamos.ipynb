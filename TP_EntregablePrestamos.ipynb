{
 "cells": [
  {
   "cell_type": "markdown",
   "metadata": {},
   "source": [
    "# Examen Práctico "
   ]
  },
  {
   "cell_type": "markdown",
   "metadata": {},
   "source": [
    "#### 3670 COM:01-3900 | Ciencia de datos | 2024 C2"
   ]
  },
  {
   "cell_type": "markdown",
   "metadata": {},
   "source": [
    "Alumnos:"
   ]
  },
  {
   "cell_type": "markdown",
   "metadata": {},
   "source": [
    "## Enunciado"
   ]
  },
  {
   "cell_type": "markdown",
   "metadata": {},
   "source": [
    "Se tiene un dataset con datos del historial de solicitantes a quienes se le otorgaron créditos y su situación final como deudores o pagadores. La entidad tiene que determinar a quienes entregar o no un crédito en función de su propensión a caer en \"default\". Desarrolle un proceso que clasifique deudores y pagadores. Observe que la clase de interés es \"default\", y debido a nuevas políticas de encaje bancario se ha expresado el objetivo de evitar tanto como sea posible entregar créditos a deudores (a costa naturalmente de perder algún posible crédito a pagadores). Maximice la métrica correspondiente sin modificar threshold."
   ]
  },
  {
   "cell_type": "markdown",
   "metadata": {},
   "source": [
    " Las columnas tienen nombres descriptivos, pero para mas información:"
   ]
  },
  {
   "cell_type": "markdown",
   "metadata": {},
   "source": [
    "Importe: Cuando dinero esta pidiendo prestado</BR>\n",
    "añosPago: Tiempo para pagar el crédito</BR>\n",
    "IngresoAnuales: Ingresos anuales del solicitante</BR>\n",
    "RelacionIngresoDeuda: Ratio entre sus ingresos y la deuda</BR>\n",
    "RelacionCuotaDeuda: Ratio entre sus ingresos y la cuota</BR>\n",
    "PendienteEnTarjeta: Pendiente de pago en tarjetas de crédito</BR>\n",
    "UsoCreditoTarjeta: Volumen de dinero que maneja con sus instrumentos de crédito</BR>\n",
    "Objetivo: ¿Para que quiere el préstamos?</BR>\n",
    "esPropietario: ¿Es propietario del su casa?</BR>\n",
    "FueVeraz: ¿Alguna vez estuvo en el veraz?</BR>\n",
    "TuvoEmbargo: ¿Tuvo algun embargo o situación judicial?</BR>\n",
    "Cuentas: Cantidad de cuentas que maneja</BR>\n",
    "PuntuacionGeneral: Puntuación crediticia otorgada por un organismo regular</BR>\n",
    "Default: Si pagó o no el crédito</BR>\n",
    "AntiguedadLaboral: Antiguedad laboral</BR>"
   ]
  },
  {
   "cell_type": "markdown",
   "metadata": {},
   "source": [
    "## Como desarrollar el exámen"
   ]
  },
  {
   "cell_type": "markdown",
   "metadata": {},
   "source": [
    "A partir del dataset realice todas las acciones para poder llegar al mejor modelo, explique brevemente en los fundamentos de sus transformaciones o acciones en general. "
   ]
  },
  {
   "cell_type": "markdown",
   "metadata": {},
   "source": [
    "La nota derivará de: </BR>\n",
    "1.La calidad de la clasificación realizada</BR>\n",
    "2.La fundamentación de los pasos realizados</BR>\n",
    "3.Lo sencillo de llevar a producción el desarrollo</BR> \n",
    "\n"
   ]
  },
  {
   "cell_type": "markdown",
   "metadata": {},
   "source": [
    "Los docentes evaluaran su clasificador utilizando un conjunto de datos del dataset \"fuera de la caja\" (out of the box, al que usted no tiene acceso). Para minimizar la posible diferencia entre su medición y la medición del docente, recuerde y aplique conceptos de test, validación cruzada y evite los errores comunes de sesgo de selección y fuga de datos. Ej: \"10. Common pitfalls and recommended practices\" disponible en \"https://scikit-learn.org/stable/common_pitfalls.html\"   "
   ]
  },
  {
   "cell_type": "markdown",
   "metadata": {},
   "source": [
    "Al final del notebook encontrará un bloque de código que lee la muestra adicional (a la que usted no tiene acceso) si EVALUACION==True, en caso contrario solo lee una submuestra del conjunto original para validar que el código funciona. Desarrolle el notebook como considere, para finalmente asignar el mejor clasificador que usted haya obtenido remplazando en f_clf = None, None por su clasificador. Implemente todas las transformaciones entre esa línea y la predición final (Evitando al fuga de datos).Puede dejar funcionando implementaciones alternativas que no prosperaron en notebooks separados. En cuanto comience con el desarrollo informe a los docentes el nombre del repositorio.\n"
   ]
  },
  {
   "cell_type": "markdown",
   "metadata": {},
   "source": [
    "## Evaluacion final - Docente + Alumno"
   ]
  },
  {
   "cell_type": "code",
   "execution_count": 93,
   "metadata": {},
   "outputs": [],
   "source": [
    "STUDENTDATAFILE = 'creditos_banco_alumnos.csv'\n",
    "EVALDATAFILE    = 'creditos_banco_evaluacion.csv'\n",
    "import pandas as pd\n",
    "from sklearn.pipeline import Pipeline\n",
    "from sklearn.compose import ColumnTransformer\n",
    "from sklearn.impute import SimpleImputer\n",
    "from sklearn.neighbors import KNeighborsClassifier\n",
    "from sklearn.metrics import classification_report\n",
    "from sklearn.model_selection import train_test_split\n",
    "from sklearn.pipeline import Pipeline\n",
    "from sklearn.preprocessing import FunctionTransformer\n",
    "import matplotlib.pyplot as plt\n",
    "from sklearn.ensemble import GradientBoostingClassifier, RandomForestClassifier\n",
    "from sklearn.linear_model import LogisticRegression\n",
    "import numpy as np\n",
    "from sklearn.base import BaseEstimator, TransformerMixin\n",
    "from sklearn.svm import SVC\n",
    "from sklearn.discriminant_analysis import StandardScaler\n",
    "\n"
   ]
  },
  {
   "cell_type": "markdown",
   "metadata": {},
   "source": [
    "Lectura de los datos"
   ]
  },
  {
   "cell_type": "code",
   "execution_count": 94,
   "metadata": {},
   "outputs": [],
   "source": [
    "df = pd.read_csv(STUDENTDATAFILE)"
   ]
  },
  {
   "cell_type": "markdown",
   "metadata": {},
   "source": [
    "### Analisis"
   ]
  },
  {
   "cell_type": "markdown",
   "metadata": {},
   "source": [
    "No tenemos registros duplciados"
   ]
  },
  {
   "cell_type": "code",
   "execution_count": null,
   "metadata": {},
   "outputs": [
    {
     "name": "stdout",
     "output_type": "stream",
     "text": [
      "Cantidad Duplicados: 0\n"
     ]
    }
   ],
   "source": [
    "print(\"Cantidad Duplicados:\",  df.duplicated().sum())"
   ]
  },
  {
   "cell_type": "markdown",
   "metadata": {},
   "source": [
    "No tenemos nulos que imputar"
   ]
  },
  {
   "cell_type": "code",
   "execution_count": null,
   "metadata": {},
   "outputs": [
    {
     "data": {
      "text/plain": [
       "Importe                 0.0\n",
       "añosPago                0.0\n",
       "IngresoAnuales          0.0\n",
       "RelacionIngresoDeuda    0.0\n",
       "RelacionCuotaDeuda      0.0\n",
       "PendienteEnTarjeta      0.0\n",
       "UsoCreditoTarjeta       0.0\n",
       "Objetivo                0.0\n",
       "esPropietario           0.0\n",
       "FueVeraz                0.0\n",
       "TuvoEmbargo             0.0\n",
       "Cuentas                 0.0\n",
       "PuntuacionGeneral       0.0\n",
       "Default                 0.0\n",
       "AntiguedadLaboral       0.0\n",
       "dtype: float64"
      ]
     },
     "metadata": {},
     "output_type": "display_data"
    }
   ],
   "source": [
    "df.isna().sum()/df.shape[0]*100"
   ]
  },
  {
   "cell_type": "code",
   "execution_count": null,
   "metadata": {},
   "outputs": [
    {
     "data": {
      "text/plain": [
       "Index(['Importe', 'añosPago', 'IngresoAnuales', 'RelacionIngresoDeuda',\n",
       "       'RelacionCuotaDeuda', 'PendienteEnTarjeta', 'UsoCreditoTarjeta',\n",
       "       'Objetivo', 'esPropietario', 'FueVeraz', 'TuvoEmbargo', 'Cuentas',\n",
       "       'PuntuacionGeneral', 'Default', 'AntiguedadLaboral'],\n",
       "      dtype='object')"
      ]
     },
     "metadata": {},
     "output_type": "display_data"
    }
   ],
   "source": [
    "df.columns"
   ]
  },
  {
   "cell_type": "code",
   "execution_count": null,
   "metadata": {},
   "outputs": [
    {
     "data": {
      "text/plain": [
       "Importe                   int64\n",
       "añosPago                  int64\n",
       "IngresoAnuales            int64\n",
       "RelacionIngresoDeuda    float64\n",
       "RelacionCuotaDeuda      float64\n",
       "PendienteEnTarjeta        int64\n",
       "UsoCreditoTarjeta       float64\n",
       "Objetivo                 object\n",
       "esPropietario            object\n",
       "FueVeraz                  int64\n",
       "TuvoEmbargo               int64\n",
       "Cuentas                   int64\n",
       "PuntuacionGeneral       float64\n",
       "Default                  object\n",
       "AntiguedadLaboral         int64\n",
       "dtype: object"
      ]
     },
     "metadata": {},
     "output_type": "display_data"
    }
   ],
   "source": [
    "df.dtypes"
   ]
  },
  {
   "cell_type": "markdown",
   "metadata": {},
   "source": [
    "Al revisar el dataset y los tipos concluimos que tenemos con categoricos a estas columnas:"
   ]
  },
  {
   "cell_type": "code",
   "execution_count": null,
   "metadata": {},
   "outputs": [
    {
     "name": "stdout",
     "output_type": "stream",
     "text": [
      "Columna: 'Objetivo':\n",
      "['Deuda' 'Deuda renovable' 'Mudanza' 'Evento' 'Hipoteca' 'No declara'\n",
      " 'Inversion' 'Negocio' 'Bien de Capital' 'Compra' 'Otros' 'Vacaciones']\n",
      "Columna: 'esPropietario':\n",
      "['Hipoteca' 'Alquiler' 'Propio' 'Otro']\n",
      "Columna: 'Default':\n",
      "['paid off' 'default']\n"
     ]
    }
   ],
   "source": [
    "print(\"Columna: 'Objetivo':\")\n",
    "print(df[\"Objetivo\"].unique())\n",
    "print(\"Columna: 'esPropietario':\")\n",
    "print(df[\"esPropietario\"].unique())\n",
    "print(\"Columna: 'Default':\")\n",
    "print(df[\"Default\"].unique())"
   ]
  },
  {
   "cell_type": "markdown",
   "metadata": {},
   "source": [
    "Como booleanos"
   ]
  },
  {
   "cell_type": "code",
   "execution_count": null,
   "metadata": {},
   "outputs": [
    {
     "name": "stdout",
     "output_type": "stream",
     "text": [
      "FueVeraz\n",
      "0    29135\n",
      "1     4871\n",
      "Name: count, dtype: int64\n",
      "TuvoEmbargo\n",
      "0    30985\n",
      "1     3021\n",
      "Name: count, dtype: int64\n"
     ]
    }
   ],
   "source": [
    "print(df[\"FueVeraz\"].value_counts())\n",
    "print(df[\"TuvoEmbargo\"].value_counts())"
   ]
  },
  {
   "cell_type": "markdown",
   "metadata": {},
   "source": [
    "Luego vemos la distribucion de los datos para cada columna, asi como el conteo de los mismos y una matriz de correlacion para poder ver con que columnas quedarnos"
   ]
  },
  {
   "cell_type": "code",
   "execution_count": null,
   "metadata": {},
   "outputs": [],
   "source": [
    "import seaborn as sns\n",
    "\n",
    "# Configuración general para gráficos\n",
    "plt.style.use('seaborn-v0_8-dark')\n",
    "\n",
    "# 1. Histogramas para la distribución de variables numéricas clave\n",
    "fig, axes = plt.subplots(2, 3, figsize=(18, 10))\n",
    "sns.histplot(df['Importe'], kde=True, ax=axes[0, 0]).set_title('Distribución de Importe')\n",
    "sns.histplot(df['IngresoAnuales'], kde=True, ax=axes[0, 1]).set_title('Distribución de IngresoAnuales')\n",
    "sns.histplot(df['PendienteEnTarjeta'], kde=True, ax=axes[0, 2]).set_title('Distribución de PendienteEnTarjeta')\n",
    "sns.histplot(df['RelacionIngresoDeuda'], kde=True, ax=axes[1, 0]).set_title('Distribución de RelacionIngresoDeuda')\n",
    "sns.histplot(df['RelacionCuotaDeuda'], kde=True, ax=axes[1, 1]).set_title('Distribución de RelacionCuotaDeuda')\n",
    "sns.histplot(df['AntiguedadLaboral'], kde=True, ax=axes[1, 2]).set_title('Distribución de AntiguedadLaboral')\n",
    "\n",
    "plt.tight_layout()\n",
    "plt.show()\n",
    "\n",
    "# 2. Conteo de valores en las columnas categóricas 'Objetivo', 'esPropietario' y 'Default'\n",
    "fig, axes = plt.subplots(1, 3, figsize=(18, 5))\n",
    "sns.countplot(data=df, x='Objetivo', order=df['Objetivo'].value_counts().index, ax=axes[0]).set_title('Conteo de Objetivos')\n",
    "sns.countplot(data=df, x='esPropietario', order=df['esPropietario'].value_counts().index, ax=axes[1]).set_title('Conteo de esPropietario')\n",
    "sns.countplot(data=df, x='Default', order=df['Default'].value_counts().index, ax=axes[2]).set_title('Conteo de Default')\n",
    "\n",
    "plt.tight_layout()\n",
    "plt.show()\n",
    "\n",
    "# 3. Matriz de correlación para ver relaciones entre variables numéricas\n",
    "fig, ax = plt.subplots(figsize=(12, 8))\n",
    "sns.heatmap(df.corr(numeric_only=True), annot=True, cmap='coolwarm', ax=ax).set_title('Matriz de Correlación')\n",
    "\n",
    "plt.tight_layout()\n",
    "plt.show()\n",
    "\n",
    "# 4. Boxplots para detectar outliers en 'IngresoAnuales' y 'PendienteEnTarjeta'\n",
    "fig, axes = plt.subplots(1, 2, figsize=(15, 6))\n",
    "sns.boxplot(x=df['IngresoAnuales'], ax=axes[0]).set_title('Boxplot de IngresoAnuales')\n",
    "sns.boxplot(x=df['PendienteEnTarjeta'], ax=axes[1]).set_title('Boxplot de PendienteEnTarjeta')\n",
    "\n",
    "plt.tight_layout()\n",
    "plt.show()"
   ]
  },
  {
   "cell_type": "markdown",
   "metadata": {},
   "source": [
    "### Pipeline"
   ]
  },
  {
   "cell_type": "markdown",
   "metadata": {},
   "source": [
    "Funciones para el pipeline\n"
   ]
  },
  {
   "cell_type": "code",
   "execution_count": 95,
   "metadata": {},
   "outputs": [],
   "source": [
    "dropna_transformer = FunctionTransformer(lambda df: df.dropna(), validate=False)\n",
    "\n",
    "def encode_categories(df):\n",
    "    # Codificar la columna 'Objetivo'\n",
    "    obj_ordinal = pd.CategoricalDtype(categories=df['Objetivo'].unique(), ordered=True)\n",
    "    df['Objetivo'] = df['Objetivo'].astype(obj_ordinal).cat.codes\n",
    "\n",
    "    # Codificar la columna 'esPropietario'\n",
    "    esPro_ordinal = pd.CategoricalDtype(categories=df['esPropietario'].unique(), ordered=True)\n",
    "    df['esPropietario'] = df['esPropietario'].astype(esPro_ordinal).cat.codes\n",
    "\n",
    "    # Mapear valores en la columna 'Default'\n",
    "    #df['Default'] = df['Default'].map({'paid off': 0, 'default': 1}) #TODO: esto no anda no se por que (de todas formas creo que no hace falta)\n",
    "    return df\n",
    "\n",
    "\n",
    "categorical_transformer = FunctionTransformer(encode_categories, validate=False)\n",
    "\n",
    "def remove_outliers(df):\n",
    "    # Seleccionar solo columnas numéricas\n",
    "    outlier_columns = ['IngresoAnuales', 'PendienteEnTarjeta', 'RelacionCuotaDeuda']\n",
    "\n",
    "    # Detectar y eliminar outliers usando el método del rango intercuartílico (IQR)\n",
    "    for column in outlier_columns:\n",
    "        Q1 = df[column].quantile(0.25)  # Primer cuartil\n",
    "        Q3 = df[column].quantile(0.75)  # Tercer cuartil\n",
    "        IQR = Q3 - Q1  # Rango intercuartílico\n",
    "        \n",
    "        # Definir límites inferior y superior\n",
    "        lower_bound = Q1 - 1.5 * IQR\n",
    "        upper_bound = Q3 + 1.5 * IQR\n",
    "        \n",
    "        # Filtrar registros que están fuera de los límites\n",
    "        df[column] = df[column].where((df[column] >= lower_bound) & (df[column] <= upper_bound), np.nan)\n",
    "    return df\n",
    "\n",
    "outliners_transformer = FunctionTransformer(remove_outliers, validate=False)\n",
    "\n",
    "class ColumnImputer(BaseEstimator, TransformerMixin):\n",
    "    def __init__(self, imputer=SimpleImputer(strategy=\"mean\"), columns=None):\n",
    "        self.imputer = imputer\n",
    "        self.columns = columns\n",
    "\n",
    "    def fit(self, X, y=None):\n",
    "        #self.imputer.fit(X[self.columns])\n",
    "        return self\n",
    "    def get_feature_names_out(self):\n",
    "        return self.imputer.get_feature_names_out()\n",
    "    def transform(self, X):\n",
    "        Xc = X.copy()\n",
    "        #Xc.loc[:, self.columns] = self.imputer.transform(X[self.columns])\n",
    "\n",
    "        Xc.loc[:, self.columns] = self.imputer.fit_transform(X[self.columns])\n",
    "        return Xc\n"
   ]
  },
  {
   "cell_type": "code",
   "execution_count": 96,
   "metadata": {},
   "outputs": [],
   "source": [
    "class NumericScaler(BaseEstimator, TransformerMixin):\n",
    "    def __init__(self, columns=None):\n",
    "        self.columns = columns\n",
    "        self.scaler = StandardScaler()\n",
    "\n",
    "\n",
    "    def fit(self, X, y=None):\n",
    "        return self\n",
    "\n",
    "    def transform(self, X):\n",
    "        numeric_columns = X.select_dtypes(include=['float64', 'int64']).columns\n",
    "        X_copy = X.copy()\n",
    "        X_copy[numeric_columns] = self.scaler.fit_transform(X[numeric_columns])\n",
    "        return X_copy"
   ]
  },
  {
   "cell_type": "code",
   "execution_count": 97,
   "metadata": {},
   "outputs": [],
   "source": [
    "class ColumnDropper(BaseEstimator, TransformerMixin):\n",
    "    def __init__(self, columns):\n",
    "        self.columns = columns\n",
    "\n",
    "    def fit(self, X, y=None):\n",
    "        return self  # Este transformador no aprende nada\n",
    "\n",
    "    def transform(self, X):\n",
    "        X_copy = X.copy()\n",
    "        X_copy.drop(columns=self.columns, inplace=True)\n",
    "        return X_copy\n"
   ]
  },
  {
   "cell_type": "markdown",
   "metadata": {},
   "source": [
    "Pipeline"
   ]
  },
  {
   "cell_type": "markdown",
   "metadata": {},
   "source": [
    "### Este con SVC da 63"
   ]
  },
  {
   "cell_type": "code",
   "execution_count": 98,
   "metadata": {},
   "outputs": [
    {
     "data": {
      "text/plain": [
       "\"\\ncolumns_to_drop = ['AntiguedadLaboral']\\n\\npl = Pipeline([\\n    ('dropna', dropna_transformer),  # Paso para eliminar nulos\\n    ('drop_columns', ColumnDropper(columns=columns_to_drop)),  # Paso para eliminar columnas\\n    ('encode_categories', categorical_transformer), # Paso para codificar categorías\\n    ('remove_outliers', outliners_transformer), # Convierte los outliers en NaN\\n    ('imputer', ColumnImputer(columns=['IngresoAnuales', 'PendienteEnTarjeta', 'RelacionCuotaDeuda'])),  # Imputar valores NaN con la mediana\\n    ('scaler', NumericScaler()), #Escala las columnas numéricas (para GradientBoost, el que vamos a entregar, no haría falta)\\n    ('classifier',SVC(gamma='auto'))\\n    ],\\n)\\n\""
      ]
     },
     "execution_count": 98,
     "metadata": {},
     "output_type": "execute_result"
    }
   ],
   "source": [
    "\"\"\"\n",
    "columns_to_drop = ['AntiguedadLaboral']\n",
    "\n",
    "pl = Pipeline([\n",
    "    ('dropna', dropna_transformer),  # Paso para eliminar nulos\n",
    "    ('drop_columns', ColumnDropper(columns=columns_to_drop)),  # Paso para eliminar columnas\n",
    "    ('encode_categories', categorical_transformer), # Paso para codificar categorías\n",
    "    ('remove_outliers', outliners_transformer), # Convierte los outliers en NaN\n",
    "    ('imputer', ColumnImputer(columns=['IngresoAnuales', 'PendienteEnTarjeta', 'RelacionCuotaDeuda'])),  # Imputar valores NaN con la mediana\n",
    "    ('scaler', NumericScaler()), #Escala las columnas numéricas (para GradientBoost, el que vamos a entregar, no haría falta)\n",
    "    ('classifier',SVC(gamma='auto'))\n",
    "    ],\n",
    ")\n",
    "\"\"\""
   ]
  },
  {
   "cell_type": "markdown",
   "metadata": {},
   "source": [
    "### Este con GradientBoost"
   ]
  },
  {
   "cell_type": "code",
   "execution_count": 99,
   "metadata": {},
   "outputs": [],
   "source": [
    "#columns_to_drop = ['AntiguedadLaboral']\n",
    "\n",
    "pl = Pipeline([\n",
    "    ('dropna', dropna_transformer),  # Paso para eliminar nulos\n",
    "    #('drop_columns', ColumnDropper(columns=columns_to_drop)),  # Paso para eliminar columnas\n",
    "    ('encode_categories', categorical_transformer), # Paso para codificar categorías\n",
    "    ('remove_outliers', outliners_transformer), # Convierte los outliers en NaN\n",
    "    ('imputer', ColumnImputer(columns=['IngresoAnuales', 'PendienteEnTarjeta', 'RelacionCuotaDeuda'])),  # Imputar valores NaN con la mediana\n",
    "    ('classifier', GradientBoostingClassifier())\n",
    "    ],\n",
    ")"
   ]
  },
  {
   "cell_type": "markdown",
   "metadata": {},
   "source": [
    "Procesamiento"
   ]
  },
  {
   "cell_type": "code",
   "execution_count": 100,
   "metadata": {},
   "outputs": [
    {
     "data": {
      "text/html": [
       "<style>#sk-container-id-11 {color: black;background-color: white;}#sk-container-id-11 pre{padding: 0;}#sk-container-id-11 div.sk-toggleable {background-color: white;}#sk-container-id-11 label.sk-toggleable__label {cursor: pointer;display: block;width: 100%;margin-bottom: 0;padding: 0.3em;box-sizing: border-box;text-align: center;}#sk-container-id-11 label.sk-toggleable__label-arrow:before {content: \"▸\";float: left;margin-right: 0.25em;color: #696969;}#sk-container-id-11 label.sk-toggleable__label-arrow:hover:before {color: black;}#sk-container-id-11 div.sk-estimator:hover label.sk-toggleable__label-arrow:before {color: black;}#sk-container-id-11 div.sk-toggleable__content {max-height: 0;max-width: 0;overflow: hidden;text-align: left;background-color: #f0f8ff;}#sk-container-id-11 div.sk-toggleable__content pre {margin: 0.2em;color: black;border-radius: 0.25em;background-color: #f0f8ff;}#sk-container-id-11 input.sk-toggleable__control:checked~div.sk-toggleable__content {max-height: 200px;max-width: 100%;overflow: auto;}#sk-container-id-11 input.sk-toggleable__control:checked~label.sk-toggleable__label-arrow:before {content: \"▾\";}#sk-container-id-11 div.sk-estimator input.sk-toggleable__control:checked~label.sk-toggleable__label {background-color: #d4ebff;}#sk-container-id-11 div.sk-label input.sk-toggleable__control:checked~label.sk-toggleable__label {background-color: #d4ebff;}#sk-container-id-11 input.sk-hidden--visually {border: 0;clip: rect(1px 1px 1px 1px);clip: rect(1px, 1px, 1px, 1px);height: 1px;margin: -1px;overflow: hidden;padding: 0;position: absolute;width: 1px;}#sk-container-id-11 div.sk-estimator {font-family: monospace;background-color: #f0f8ff;border: 1px dotted black;border-radius: 0.25em;box-sizing: border-box;margin-bottom: 0.5em;}#sk-container-id-11 div.sk-estimator:hover {background-color: #d4ebff;}#sk-container-id-11 div.sk-parallel-item::after {content: \"\";width: 100%;border-bottom: 1px solid gray;flex-grow: 1;}#sk-container-id-11 div.sk-label:hover label.sk-toggleable__label {background-color: #d4ebff;}#sk-container-id-11 div.sk-serial::before {content: \"\";position: absolute;border-left: 1px solid gray;box-sizing: border-box;top: 0;bottom: 0;left: 50%;z-index: 0;}#sk-container-id-11 div.sk-serial {display: flex;flex-direction: column;align-items: center;background-color: white;padding-right: 0.2em;padding-left: 0.2em;position: relative;}#sk-container-id-11 div.sk-item {position: relative;z-index: 1;}#sk-container-id-11 div.sk-parallel {display: flex;align-items: stretch;justify-content: center;background-color: white;position: relative;}#sk-container-id-11 div.sk-item::before, #sk-container-id-11 div.sk-parallel-item::before {content: \"\";position: absolute;border-left: 1px solid gray;box-sizing: border-box;top: 0;bottom: 0;left: 50%;z-index: -1;}#sk-container-id-11 div.sk-parallel-item {display: flex;flex-direction: column;z-index: 1;position: relative;background-color: white;}#sk-container-id-11 div.sk-parallel-item:first-child::after {align-self: flex-end;width: 50%;}#sk-container-id-11 div.sk-parallel-item:last-child::after {align-self: flex-start;width: 50%;}#sk-container-id-11 div.sk-parallel-item:only-child::after {width: 0;}#sk-container-id-11 div.sk-dashed-wrapped {border: 1px dashed gray;margin: 0 0.4em 0.5em 0.4em;box-sizing: border-box;padding-bottom: 0.4em;background-color: white;}#sk-container-id-11 div.sk-label label {font-family: monospace;font-weight: bold;display: inline-block;line-height: 1.2em;}#sk-container-id-11 div.sk-label-container {text-align: center;}#sk-container-id-11 div.sk-container {/* jupyter's `normalize.less` sets `[hidden] { display: none; }` but bootstrap.min.css set `[hidden] { display: none !important; }` so we also need the `!important` here to be able to override the default hidden behavior on the sphinx rendered scikit-learn.org. See: https://github.com/scikit-learn/scikit-learn/issues/21755 */display: inline-block !important;position: relative;}#sk-container-id-11 div.sk-text-repr-fallback {display: none;}</style><div id=\"sk-container-id-11\" class=\"sk-top-container\"><div class=\"sk-text-repr-fallback\"><pre>Pipeline(steps=[(&#x27;dropna&#x27;,\n",
       "                 FunctionTransformer(func=&lt;function &lt;lambda&gt; at 0x000001D60BDA3C70&gt;)),\n",
       "                (&#x27;encode_categories&#x27;,\n",
       "                 FunctionTransformer(func=&lt;function encode_categories at 0x000001D60BDA3BE0&gt;)),\n",
       "                (&#x27;remove_outliers&#x27;,\n",
       "                 FunctionTransformer(func=&lt;function remove_outliers at 0x000001D60BDA3D00&gt;)),\n",
       "                (&#x27;imputer&#x27;,\n",
       "                 ColumnImputer(columns=[&#x27;IngresoAnuales&#x27;, &#x27;PendienteEnTarjeta&#x27;,\n",
       "                                        &#x27;RelacionCuotaDeuda&#x27;])),\n",
       "                (&#x27;classifier&#x27;, GradientBoostingClassifier())])</pre><b>In a Jupyter environment, please rerun this cell to show the HTML representation or trust the notebook. <br />On GitHub, the HTML representation is unable to render, please try loading this page with nbviewer.org.</b></div><div class=\"sk-container\" hidden><div class=\"sk-item sk-dashed-wrapped\"><div class=\"sk-label-container\"><div class=\"sk-label sk-toggleable\"><input class=\"sk-toggleable__control sk-hidden--visually\" id=\"sk-estimator-id-91\" type=\"checkbox\" ><label for=\"sk-estimator-id-91\" class=\"sk-toggleable__label sk-toggleable__label-arrow\">Pipeline</label><div class=\"sk-toggleable__content\"><pre>Pipeline(steps=[(&#x27;dropna&#x27;,\n",
       "                 FunctionTransformer(func=&lt;function &lt;lambda&gt; at 0x000001D60BDA3C70&gt;)),\n",
       "                (&#x27;encode_categories&#x27;,\n",
       "                 FunctionTransformer(func=&lt;function encode_categories at 0x000001D60BDA3BE0&gt;)),\n",
       "                (&#x27;remove_outliers&#x27;,\n",
       "                 FunctionTransformer(func=&lt;function remove_outliers at 0x000001D60BDA3D00&gt;)),\n",
       "                (&#x27;imputer&#x27;,\n",
       "                 ColumnImputer(columns=[&#x27;IngresoAnuales&#x27;, &#x27;PendienteEnTarjeta&#x27;,\n",
       "                                        &#x27;RelacionCuotaDeuda&#x27;])),\n",
       "                (&#x27;classifier&#x27;, GradientBoostingClassifier())])</pre></div></div></div><div class=\"sk-serial\"><div class=\"sk-item\"><div class=\"sk-estimator sk-toggleable\"><input class=\"sk-toggleable__control sk-hidden--visually\" id=\"sk-estimator-id-92\" type=\"checkbox\" ><label for=\"sk-estimator-id-92\" class=\"sk-toggleable__label sk-toggleable__label-arrow\">FunctionTransformer</label><div class=\"sk-toggleable__content\"><pre>FunctionTransformer(func=&lt;function &lt;lambda&gt; at 0x000001D60BDA3C70&gt;)</pre></div></div></div><div class=\"sk-item\"><div class=\"sk-estimator sk-toggleable\"><input class=\"sk-toggleable__control sk-hidden--visually\" id=\"sk-estimator-id-93\" type=\"checkbox\" ><label for=\"sk-estimator-id-93\" class=\"sk-toggleable__label sk-toggleable__label-arrow\">FunctionTransformer</label><div class=\"sk-toggleable__content\"><pre>FunctionTransformer(func=&lt;function encode_categories at 0x000001D60BDA3BE0&gt;)</pre></div></div></div><div class=\"sk-item\"><div class=\"sk-estimator sk-toggleable\"><input class=\"sk-toggleable__control sk-hidden--visually\" id=\"sk-estimator-id-94\" type=\"checkbox\" ><label for=\"sk-estimator-id-94\" class=\"sk-toggleable__label sk-toggleable__label-arrow\">FunctionTransformer</label><div class=\"sk-toggleable__content\"><pre>FunctionTransformer(func=&lt;function remove_outliers at 0x000001D60BDA3D00&gt;)</pre></div></div></div><div class=\"sk-item sk-dashed-wrapped\"><div class=\"sk-label-container\"><div class=\"sk-label sk-toggleable\"><input class=\"sk-toggleable__control sk-hidden--visually\" id=\"sk-estimator-id-95\" type=\"checkbox\" ><label for=\"sk-estimator-id-95\" class=\"sk-toggleable__label sk-toggleable__label-arrow\">imputer: ColumnImputer</label><div class=\"sk-toggleable__content\"><pre>ColumnImputer(columns=[&#x27;IngresoAnuales&#x27;, &#x27;PendienteEnTarjeta&#x27;,\n",
       "                       &#x27;RelacionCuotaDeuda&#x27;])</pre></div></div></div><div class=\"sk-parallel\"><div class=\"sk-parallel-item\"><div class=\"sk-item\"><div class=\"sk-label-container\"><div class=\"sk-label sk-toggleable\"><input class=\"sk-toggleable__control sk-hidden--visually\" id=\"sk-estimator-id-96\" type=\"checkbox\" ><label for=\"sk-estimator-id-96\" class=\"sk-toggleable__label sk-toggleable__label-arrow\">imputer: SimpleImputer</label><div class=\"sk-toggleable__content\"><pre>SimpleImputer()</pre></div></div></div><div class=\"sk-serial\"><div class=\"sk-item\"><div class=\"sk-estimator sk-toggleable\"><input class=\"sk-toggleable__control sk-hidden--visually\" id=\"sk-estimator-id-97\" type=\"checkbox\" ><label for=\"sk-estimator-id-97\" class=\"sk-toggleable__label sk-toggleable__label-arrow\">SimpleImputer</label><div class=\"sk-toggleable__content\"><pre>SimpleImputer()</pre></div></div></div></div></div></div></div></div><div class=\"sk-item\"><div class=\"sk-estimator sk-toggleable\"><input class=\"sk-toggleable__control sk-hidden--visually\" id=\"sk-estimator-id-98\" type=\"checkbox\" ><label for=\"sk-estimator-id-98\" class=\"sk-toggleable__label sk-toggleable__label-arrow\">GradientBoostingClassifier</label><div class=\"sk-toggleable__content\"><pre>GradientBoostingClassifier()</pre></div></div></div></div></div></div></div>"
      ],
      "text/plain": [
       "Pipeline(steps=[('dropna',\n",
       "                 FunctionTransformer(func=<function <lambda> at 0x000001D60BDA3C70>)),\n",
       "                ('encode_categories',\n",
       "                 FunctionTransformer(func=<function encode_categories at 0x000001D60BDA3BE0>)),\n",
       "                ('remove_outliers',\n",
       "                 FunctionTransformer(func=<function remove_outliers at 0x000001D60BDA3D00>)),\n",
       "                ('imputer',\n",
       "                 ColumnImputer(columns=['IngresoAnuales', 'PendienteEnTarjeta',\n",
       "                                        'RelacionCuotaDeuda'])),\n",
       "                ('classifier', GradientBoostingClassifier())])"
      ]
     },
     "execution_count": 100,
     "metadata": {},
     "output_type": "execute_result"
    }
   ],
   "source": [
    "X = df.drop(columns=['Default'])\n",
    "y = df['Default']\n",
    "X_train, X_test, y_train, y_test = train_test_split(X, y, test_size=0.3, random_state=42)\n",
    "\n",
    "pl.fit(X_train, y_train)"
   ]
  },
  {
   "cell_type": "code",
   "execution_count": 101,
   "metadata": {},
   "outputs": [
    {
     "name": "stdout",
     "output_type": "stream",
     "text": [
      "              precision    recall  f1-score   support\n",
      "\n",
      "     default       0.63      0.69      0.65      5133\n",
      "    paid off       0.65      0.58      0.61      5069\n",
      "\n",
      "    accuracy                           0.64     10202\n",
      "   macro avg       0.64      0.64      0.63     10202\n",
      "weighted avg       0.64      0.64      0.63     10202\n",
      "\n"
     ]
    }
   ],
   "source": [
    "EVALUACION = False\n",
    "#best_clf = None #Asignar aqui el mejor clasificador posible (previamente entrenado)\n",
    "best_clf = pl\n",
    "#Leemos el dataset de evaluación, simulando producción\n",
    "if EVALUACION==False:\n",
    "    df = pd.read_csv(STUDENTDATAFILE)\n",
    "    _, df = train_test_split(df, test_size=0.3, random_state=42)\n",
    "else:\n",
    "    df = pd.read_csv(EVALDATAFILE)\n",
    "#Dividimos en target y predictoras\n",
    "\n",
    "X_Eval = df.drop(\"Default\", axis=1)\n",
    "y_Eval = df[\"Default\"]\n",
    "\n",
    "#Evaluación final\n",
    "\n",
    "y_pred = best_clf.predict(X_Eval) # esto debe ser un pipeline completo\n",
    "print(classification_report(y_Eval, y_pred))"
   ]
  }
 ],
 "metadata": {
  "kernelspec": {
   "display_name": "Python 3",
   "language": "python",
   "name": "python3"
  },
  "language_info": {
   "codemirror_mode": {
    "name": "ipython",
    "version": 3
   },
   "file_extension": ".py",
   "mimetype": "text/x-python",
   "name": "python",
   "nbconvert_exporter": "python",
   "pygments_lexer": "ipython3",
   "version": "3.10.9"
  }
 },
 "nbformat": 4,
 "nbformat_minor": 2
}
